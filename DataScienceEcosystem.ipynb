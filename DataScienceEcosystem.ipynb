{
 "cells": [
  {
   "cell_type": "markdown",
   "id": "c88746f3-cf42-4569-876f-f9a4eeb8a797",
   "metadata": {},
   "source": [
    "#Data Science Tools and Ecosystem"
   ]
  },
  {
   "cell_type": "markdown",
   "id": "21b13c26-f98b-4148-b46c-a4180abe79f4",
   "metadata": {},
   "source": [
    "In this notebook, Data Science Tools and Ecosystem are summarized"
   ]
  },
  {
   "cell_type": "markdown",
   "id": "f5c9176d-2737-41b9-b2f5-c1857d5a34e8",
   "metadata": {},
   "source": [
    "some of the popular languages that Datas Scientists use are:\n",
    "    1.R \n",
    "    2.python\n",
    "    3.Julia\n",
    "    4.java"
   ]
  },
  {
   "cell_type": "markdown",
   "id": "e8cfc27b-a5aa-427a-9465-cba4c2a086ee",
   "metadata": {},
   "source": [
    "some of the common libraries used by Data Scientists include:\n",
    "    1.pandas\n",
    "    2.Numpy\n",
    "    3.Scipy\n",
    "    4.Scikit-learn\n",
    "    5. TensorFlow\n",
    "    6.Keras"
   ]
  },
  {
   "cell_type": "markdown",
   "id": "dc0556a1-2ba2-4265-8d82-530e536a5bc5",
   "metadata": {},
   "source": [
    "Data Science Tools\n",
    "    1.Rstudio\n",
    "    2.Jupyter Notebook\n",
    "    3.Github"
   ]
  },
  {
   "cell_type": "markdown",
   "id": "b4f731a6-c952-41da-ad07-e87c9ec2f456",
   "metadata": {},
   "source": [
    "### Below are a few examples of evaluating arithmetic expressions in Python"
   ]
  },
  {
   "cell_type": "code",
   "execution_count": 1,
   "id": "9126ec4f-b552-4a9d-b5a6-59347604d201",
   "metadata": {
    "tags": []
   },
   "outputs": [
    {
     "data": {
      "text/plain": [
       "17"
      ]
     },
     "execution_count": 1,
     "metadata": {},
     "output_type": "execute_result"
    }
   ],
   "source": [
    "(3*4)+5\n",
    "#This is a simple arithmetic expression to multiply then add integers"
   ]
  },
  {
   "cell_type": "code",
   "execution_count": 2,
   "id": "b290dad7-2d07-436a-a253-a953d8a98040",
   "metadata": {
    "tags": []
   },
   "outputs": [
    {
     "name": "stdout",
     "output_type": "stream",
     "text": [
      "hours are - 3.3333333333333335\n"
     ]
    }
   ],
   "source": [
    "#code for converting minutes to hours\n",
    "a=200\n",
    "print(\"hours are -\",a/60)"
   ]
  },
  {
   "cell_type": "markdown",
   "id": "51854621-891d-4fc9-af47-59994bc19a1c",
   "metadata": {},
   "source": [
    "some of the popular languages that Datas Scientists use are:\n",
    "    1.R \n",
    "    2.python\n",
    "    3.Julia\n",
    "    4.java"
   ]
  },
  {
   "cell_type": "markdown",
   "id": "915c377e-219a-4fb5-a4d1-1fbd0e5144de",
   "metadata": {},
   "source": [
    "some of the common libraries used by Data Scientists include: 1.pandas 2.Numpy 3.Scipy 4.Scikit-learn 5. TensorFlow 6.Keras"
   ]
  },
  {
   "cell_type": "markdown",
   "id": "2abe1eac-dbf8-47a1-bafa-ac2d601dd4d3",
   "metadata": {},
   "source": [
    "Data Science Tools 1.Rstudio 2.Jupyter Notebook 3.Github"
   ]
  },
  {
   "cell_type": "markdown",
   "id": "2bee0dc5-9b0d-4ede-8c9a-a29842749599",
   "metadata": {},
   "source": [
    "### Below are a few examples of evaluating arithmetic expressions in Python"
   ]
  },
  {
   "cell_type": "code",
   "execution_count": 3,
   "id": "f5676627-a065-4683-9afd-696b546f0607",
   "metadata": {
    "tags": []
   },
   "outputs": [
    {
     "data": {
      "text/plain": [
       "17"
      ]
     },
     "execution_count": 3,
     "metadata": {},
     "output_type": "execute_result"
    }
   ],
   "source": [
    "(3*4)+5\n",
    "#This is a simple arithmetic expression to multiply then add integers"
   ]
  },
  {
   "cell_type": "code",
   "execution_count": 4,
   "id": "d80b3b98-572b-4133-b128-778de58b81b6",
   "metadata": {
    "tags": []
   },
   "outputs": [
    {
     "name": "stdout",
     "output_type": "stream",
     "text": [
      "hours are - 3.3333333333333335\n"
     ]
    }
   ],
   "source": [
    "#code for converting minutes to hours\n",
    "a=200\n",
    "print(\"hours are -\",a/60)"
   ]
  },
  {
   "cell_type": "markdown",
   "id": "14dcc4ae-c565-4635-af78-56cbb4b7a6aa",
   "metadata": {},
   "source": [
    "popular languages for Data Scinence\n",
    "    1.python\n",
    "    2.java\n",
    "    3.julia\n",
    "    4.SQL\n",
    "    5.C++"
   ]
  },
  {
   "cell_type": "markdown",
   "id": "50c6d9ba-59ad-45d5-92d9-4ac429d92957",
   "metadata": {},
   "source": [
    "## AUTHOR - ROHAN"
   ]
  }
 ],
 "metadata": {
  "kernelspec": {
   "display_name": "Python",
   "language": "python",
   "name": "conda-env-python-py"
  },
  "language_info": {
   "codemirror_mode": {
    "name": "ipython",
    "version": 3
   },
   "file_extension": ".py",
   "mimetype": "text/x-python",
   "name": "python",
   "nbconvert_exporter": "python",
   "pygments_lexer": "ipython3",
   "version": "3.7.12"
  }
 },
 "nbformat": 4,
 "nbformat_minor": 5
}
